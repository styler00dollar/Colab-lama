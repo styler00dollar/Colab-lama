{
  "nbformat": 4,
  "nbformat_minor": 0,
  "metadata": {
    "colab": {
      "name": "Colab-lama.ipynb",
      "private_outputs": true,
      "provenance": [],
      "collapsed_sections": []
    },
    "kernelspec": {
      "name": "python3",
      "display_name": "Python 3"
    },
    "language_info": {
      "name": "python"
    },
    "accelerator": "GPU"
  },
  "cells": [
    {
      "cell_type": "markdown",
      "metadata": {
        "id": "s--ukxsdwzp6"
      },
      "source": [
        "# Colab-lama\n",
        "\n",
        "Original repo: [saic-mdal/lama](https://github.com/saic-mdal/lama)\n",
        "\n",
        "Original Colab: [here](https://colab.research.google.com/github/saic-mdal/lama/blob/master/colab/LaMa_inpainting.ipynb#scrollTo=ml8yanlBRJI4)\n",
        "\n",
        "My fork: [styler00dollar/Colab-lama](https://github.com/styler00dollar/Colab-lama)\n",
        "\n",
        "Mainly just less boxes."
      ]
    },
    {
      "cell_type": "code",
      "metadata": {
        "id": "4UvV5nV7ww7_"
      },
      "source": [
        "!nvidia-smi"
      ],
      "execution_count": null,
      "outputs": []
    },
    {
      "cell_type": "code",
      "metadata": {
        "id": "DtHy8zzJw3X2",
        "cellView": "form"
      },
      "source": [
        "#@title install\n",
        "%cd /content/\n",
        "!git clone https://github.com/saic-mdal/lama\n",
        "%cd /content/lama\n",
        "!pip install -r requirements.txt \n",
        "!curl -L $(yadisk-direct https://disk.yandex.ru/d/ouP6l8VJ0HpMZg) -o big-lama.zip\n",
        "!unzip big-lama.zip\n",
        "\n",
        "#@title Drawing code\n",
        "import base64\n",
        "from IPython.display import HTML, Image\n",
        "from google.colab.output import eval_js\n",
        "from base64 import b64decode\n",
        "import matplotlib.pyplot as plt\n",
        "import numpy as np\n",
        "from shutil import copyfile\n",
        "\n",
        "canvas_html = \"\"\"\n",
        "<canvas1 width=%d height=%d>\n",
        "</canvas1>\n",
        "<canvas width=%d height=%d>\n",
        "</canvas>\n",
        "<button>Finish</button>\n",
        "<script>\n",
        "var canvas = document.querySelector('canvas')\n",
        "var ctx = canvas.getContext('2d')\n",
        "\n",
        "var canvas1 = document.querySelector('canvas1')\n",
        "var ctx1 = canvas.getContext('2d')\n",
        "\n",
        "\n",
        "ctx.strokeStyle = 'red';\n",
        "\n",
        "var img = new Image();\n",
        "img.src = \"data:image/%s;charset=utf-8;base64,%s\";\n",
        "console.log(img)\n",
        "img.onload = function() {\n",
        "  ctx1.drawImage(img, 0, 0);\n",
        "};\n",
        "img.crossOrigin = 'Anonymous';\n",
        "\n",
        "ctx.clearRect(0, 0, canvas.width, canvas.height);\n",
        "\n",
        "ctx.lineWidth = %d\n",
        "var button = document.querySelector('button')\n",
        "var mouse = {x: 0, y: 0}\n",
        "\n",
        "canvas.addEventListener('mousemove', function(e) {\n",
        "  mouse.x = e.pageX - this.offsetLeft\n",
        "  mouse.y = e.pageY - this.offsetTop\n",
        "})\n",
        "canvas.onmousedown = ()=>{\n",
        "  ctx.beginPath()\n",
        "  ctx.moveTo(mouse.x, mouse.y)\n",
        "  canvas.addEventListener('mousemove', onPaint)\n",
        "}\n",
        "canvas.onmouseup = ()=>{\n",
        "  canvas.removeEventListener('mousemove', onPaint)\n",
        "}\n",
        "var onPaint = ()=>{\n",
        "  ctx.lineTo(mouse.x, mouse.y)\n",
        "  ctx.stroke()\n",
        "}\n",
        "\n",
        "var data = new Promise(resolve=>{\n",
        "  button.onclick = ()=>{\n",
        "    resolve(canvas.toDataURL('image/png'))\n",
        "  }\n",
        "})\n",
        "</script>\n",
        "\"\"\"\n",
        "\n",
        "def draw(imgm, filename='drawing.png', w=400, h=200, line_width=1):\n",
        "  display(HTML(canvas_html % (w, h, w,h, filename.split('.')[-1], imgm, line_width)))\n",
        "  data = eval_js(\"data\")\n",
        "  binary = b64decode(data.split(',')[1])\n",
        "  with open(filename, 'wb') as f:\n",
        "    f.write(binary)"
      ],
      "execution_count": null,
      "outputs": []
    },
    {
      "cell_type": "code",
      "metadata": {
        "cellView": "form",
        "id": "xNANv00axRpw"
      },
      "source": [
        "#@title upload image\n",
        "from google.colab import files\n",
        "files = files.upload()\n",
        "fname = list(files.keys())[0]\n",
        "! rm -r data_for_prediction\n",
        "! mkdir data_for_prediction\n",
        "\n",
        "copyfile(fname, f'./data_for_prediction/{fname}')\n",
        "fname = f'./data_for_prediction/{fname}'\n",
        "\n",
        "image64 = base64.b64encode(open(fname, 'rb').read())\n",
        "image64 = image64.decode('utf-8')\n",
        "\n",
        "plt.rcParams[\"figure.figsize\"] = (5,5)\n",
        "plt.rcParams[\"figure.dpi\"] = 100\n",
        "print(f'Will use {fname} for inpainting')\n",
        "img = np.array(plt.imread(f'{fname}')[:,:,:3])\n",
        "# _ = plt.imshow(img)\n",
        "# _ = plt.axis('off')"
      ],
      "execution_count": null,
      "outputs": []
    },
    {
      "cell_type": "code",
      "metadata": {
        "id": "WznzcTtHxWW1",
        "cellView": "form"
      },
      "source": [
        "#@title Draw a mask and press Finish \n",
        "draw(image64, filename=f\"./{fname.split('.')[1]}_mask.png\", w=img.shape[1], h=img.shape[0], line_width=0.04*img.shape[1])\n",
        "\n",
        "import matplotlib.pyplot as plt\n",
        "plt.rcParams[\"figure.figsize\"] = (15,5)\n",
        "plt.rcParams[\"figure.dpi\"] = 100\n",
        "\n",
        "plt.subplot(131)\n",
        "with_mask = np.array(plt.imread(f\"./{fname.split('.')[1]}_mask.png\")[:,:,:3])\n",
        "mask = (with_mask[:,:,0]==1)*(with_mask[:,:,1]==0)*(with_mask[:,:,2]==0)\n",
        "plt.imshow(mask, cmap='gray')\n",
        "plt.axis('off')\n",
        "plt.title('mask')\n",
        "plt.imsave(f\"./{fname.split('.')[1]}_mask.png\",mask, cmap='gray')\n",
        "\n",
        "plt.subplot(132)\n",
        "img = np.array(plt.imread(f'{fname}')[:,:,:3])\n",
        "plt.imshow(img)\n",
        "plt.axis('off')\n",
        "plt.title('img')\n",
        "\n",
        "plt.subplot(133)\n",
        "img = np.array((1-mask.reshape(mask.shape[0], mask.shape[1], -1))*plt.imread(fname)[:,:,:3])\n",
        "_=plt.imshow(img)\n",
        "_=plt.axis('off')\n",
        "_=plt.title('img * mask')\n",
        "\n",
        "if '.jpeg' in fname:\n",
        "  !PYTHONPATH=. TORCH_HOME=$(pwd) python3 bin/predict.py model.path=$(pwd)/big-lama indir=$(pwd)/data_for_prediction outdir=/content/output dataset.img_suffix=.jpeg > /dev/null\n",
        "elif '.png' in fname:\n",
        "  !PYTHONPATH=. TORCH_HOME=$(pwd) python3 bin/predict.py model.path=$(pwd)/big-lama indir=$(pwd)/data_for_prediction outdir=/content/output  dataset.img_suffix=.png > /dev/null\n",
        "else:\n",
        "  print('unknown suffix')\n",
        "\n",
        "plt.imshow(plt.imread(f\"/content/output/{fname.split('.')[1].split('/')[2]}_mask.png\"))\n",
        "_=plt.axis('off')\n",
        "_=plt.title('inpainting result')"
      ],
      "execution_count": null,
      "outputs": []
    }
  ]
}